{
 "cells": [
  {
   "cell_type": "code",
   "execution_count": 1,
   "metadata": {},
   "outputs": [
    {
     "name": "stdout",
     "output_type": "stream",
     "text": [
      "Files and directories in ' /nfs/homes/gmacedo-/42 Cursus/Libfit ' :\n",
      "['ft_isalpha.c', 'ft_strchr', 'ft_memcpy', 'ft_toupper.c', 'ft_isascii.c', 'tempCodeRunnerFile.c', 'ft_strlcat.c', 'ft_memcmp.c', 'ft_strnstr.c', 'ft_strlcpy.c', 'a.out', 'ft_isdigit.c', 'ft_strlen.c', 'ft_atoi.c', 'ft_strrchr', 'ft_calloc', 'ft_strdup.c', 'ft_strncmp', 'ft_atoi', 'ft_strchr.c', 'ft_memmove', 'ft_memchr', 'ft_isalnum.c', 'ft_strncmp.c', 'list', 'ft_calloc.c', 'ft_tolower', 'ft_bzero.c', 'ft_memchr.c', 'ft_strnstr', 'ft_memset.c', 'ft_strdup', '.strdup.c.swp', 'ft_strrchr.c', 'ft_memcpy.c', 'ft_memmove.c', 'ft_tolower.c', 'check.ipynb', 'ft_isprint.c', 'toupper']\n"
     ]
    }
   ],
   "source": [
    "# import OS module\n",
    "import os\n",
    " \n",
    "# Get the list of all files and directories\n",
    "path = \"/nfs/homes/gmacedo-/42 Cursus/Libfit\"\n",
    "dir_list = os.listdir(path)\n",
    "\n",
    " \n",
    "print(\"Files and directories in '\", path, \"' :\")\n",
    " \n",
    "# prints all files\n",
    "print(dir_list)"
   ]
  },
  {
   "cell_type": "code",
   "execution_count": 2,
   "metadata": {},
   "outputs": [
    {
     "name": "stdout",
     "output_type": "stream",
     "text": [
      "ft_isalpha.c\n"
     ]
    }
   ],
   "source": [
    "check = ['ft_isalpha.c', 'ft_isdigit.c', 'ft_isalnum.c', 'ft_isascii.c', 'ft_isprint.c', 'ft_strlen.c', 'ft_memset.c', 'ft_bzero.c', 'ft_memcpy.c', 'ft_memmove.c',\n",
    "'ft_strlcpy.c', 'ft_strlcat.c', 'ft_toupper.c', 'ft_tolower.c', 'ft_strchr.c', 'ft_strrchr.c', 'ft_strncmp.c', 'ft_memchr.c', 'ft_memcmp.c', 'ft_strnstr.c', 'ft_atoi.c']\n",
    "\n",
    "print(check[0])"
   ]
  },
  {
   "cell_type": "code",
   "execution_count": 3,
   "metadata": {},
   "outputs": [
    {
     "name": "stdout",
     "output_type": "stream",
     "text": [
      "set()\n"
     ]
    }
   ],
   "source": [
    "teste = set(check).difference(dir_list)\n",
    "\n",
    "print(teste)\n"
   ]
  },
  {
   "cell_type": "code",
   "execution_count": 4,
   "metadata": {},
   "outputs": [
    {
     "name": "stdout",
     "output_type": "stream",
     "text": [
      "{'ft_memcmp.c', 'ft_strlen.c', 'ft_strncmp.c', 'ft_memchr.c', 'ft_isprint.c', 'ft_atoi.c', 'ft_isdigit.c', 'ft_bzero.c', 'ft_memmove.c', 'ft_strchr.c', 'ft_memset.c', 'ft_isalpha.c', 'ft_memcpy.c', 'ft_strlcpy.c', 'ft_strlcat.c', 'ft_strnstr.c', 'ft_toupper.c', 'ft_isascii.c', 'ft_strrchr.c', 'ft_isalnum.c', 'ft_tolower.c'}\n"
     ]
    }
   ],
   "source": [
    "teste = set(check).intersection(dir_list)\n",
    "\n",
    "print(teste)"
   ]
  },
  {
   "cell_type": "code",
   "execution_count": null,
   "metadata": {},
   "outputs": [],
   "source": []
  }
 ],
 "metadata": {
  "kernelspec": {
   "display_name": "Python 3.9.9 64-bit",
   "language": "python",
   "name": "python3"
  },
  "language_info": {
   "codemirror_mode": {
    "name": "ipython",
    "version": 3
   },
   "file_extension": ".py",
   "mimetype": "text/x-python",
   "name": "python",
   "nbconvert_exporter": "python",
   "pygments_lexer": "ipython3",
   "version": "3.9.9"
  },
  "orig_nbformat": 4,
  "vscode": {
   "interpreter": {
    "hash": "e7370f93d1d0cde622a1f8e1c04877d8463912d04d973331ad4851f04de6915a"
   }
  }
 },
 "nbformat": 4,
 "nbformat_minor": 2
}

{
 "cells": [
  {
   "cell_type": "code",
   "execution_count": 1,
   "metadata": {},
   "outputs": [
    {
     "name": "stdout",
     "output_type": "stream",
     "text": [
      "Files and directories in ' /nfs/homes/gmacedo-/42 Cursus/Libfit ' :\n",
      "['ft_isalpha.c', 'ft_strjoin.c', 'ft_toupper.c', 'ft_striteri.c', 'ft_isascii.c', 'ft_strlcat.c', 'ft_memcmp.c', 'ft_putchar_fd.c', 'ft_strnstr.c', 'ft_strlcpy.c', 'ft_isdigit.c', 'ft_strlen.c', 'ft_itoa.c', 'ft_putstr_fd.c', 'ft_atoi.c', 'ft_putendl_fd.c', 'ft_strdup.c', 'ft_strchr.c', 'ft_strmapi.c', 'ft_isalnum.c', 'ft_strncmp.c', 'ft_calloc.c', 'ft_bzero.c', 'ft_memchr.c', 'ft_memset.c', 'ft_strrchr.c', 'ft_memcpy.c', 'ft_memmove.c', 'ft_tolower.c', 'ft_split.c', 'ft_putnbr_fd.c', 'ft_strtrim.c', 'ft_substr.c', 'ft_isprint.c']\n"
     ]
    }
   ],
   "source": [
    "# import OS module\n",
    "import os\n",
    " \n",
    "# Get the list of all files and directories\n",
    "path = \"/nfs/homes/gmacedo-/42 Cursus/Libfit\"\n",
    "dir_list = os.listdir(path)\n",
    "\n",
    " \n",
    "print(\"Files and directories in '\", path, \"' :\")\n",
    " \n",
    "# prints all files\n",
    "print(dir_list)"
   ]
  },
  {
   "cell_type": "code",
   "execution_count": 2,
   "metadata": {},
   "outputs": [
    {
     "name": "stdout",
     "output_type": "stream",
     "text": [
      "ft_isalpha.c\n"
     ]
    }
   ],
   "source": [
    "check = ['ft_isalpha.c', 'ft_isdigit.c', 'ft_isalnum.c', 'ft_isascii.c', 'ft_isprint.c', 'ft_strlen.c', 'ft_memset.c', 'ft_bzero.c', 'ft_memcpy.c', 'ft_memmove.c',\n",
    "'ft_strlcpy.c', 'ft_strlcat.c', 'ft_toupper.c', 'ft_tolower.c', 'ft_strchr.c', 'ft_strrchr.c', 'ft_strncmp.c', 'ft_memchr.c', 'ft_memcmp.c', 'ft_strnstr.c', 'ft_atoi.c']\n",
    "\n",
    "print(check[0])"
   ]
  },
  {
   "cell_type": "code",
   "execution_count": 3,
   "metadata": {},
   "outputs": [
    {
     "name": "stdout",
     "output_type": "stream",
     "text": [
      "set()\n"
     ]
    }
   ],
   "source": [
    "teste = set(check).difference(dir_list)\n",
    "\n",
    "print(teste)\n"
   ]
  },
  {
   "cell_type": "code",
   "execution_count": 4,
   "metadata": {},
   "outputs": [
    {
     "name": "stdout",
     "output_type": "stream",
     "text": [
      "{'ft_strnstr.c', 'ft_strncmp.c', 'ft_isalpha.c', 'ft_strlcpy.c', 'ft_isdigit.c', 'ft_strchr.c', 'ft_strlen.c', 'ft_memset.c', 'ft_memmove.c', 'ft_memcmp.c', 'ft_memcpy.c', 'ft_strrchr.c', 'ft_isascii.c', 'ft_toupper.c', 'ft_isalnum.c', 'ft_strlcat.c', 'ft_isprint.c', 'ft_atoi.c', 'ft_bzero.c', 'ft_tolower.c', 'ft_memchr.c'}\n"
     ]
    }
   ],
   "source": [
    "teste = set(check).intersection(dir_list)\n",
    "\n",
    "print(teste)"
   ]
  },
  {
   "cell_type": "markdown",
   "metadata": {},
   "source": [
    "# Check 2 Part"
   ]
  },
  {
   "cell_type": "code",
   "execution_count": 8,
   "metadata": {},
   "outputs": [],
   "source": [
    "check_2_part = ['ft_substr.c', 'ft_strjoin.c', 'ft_strtrim.c', 'ft_split.c', 'ft_itoa.c', 'ft_strmapi.c', 'ft_striteri.c', 'ft_putchar_fd.c', 'ft_putstr_fd.c',\n",
    "'ft_putendl_fd.c', 'ft_putnbr_fd.c']"
   ]
  },
  {
   "cell_type": "code",
   "execution_count": 9,
   "metadata": {},
   "outputs": [
    {
     "name": "stdout",
     "output_type": "stream",
     "text": [
      "set()\n"
     ]
    }
   ],
   "source": [
    "teste = set(check_2_part).difference(dir_list)\n",
    "\n",
    "print(teste)\n"
   ]
  },
  {
   "cell_type": "code",
   "execution_count": 10,
   "metadata": {},
   "outputs": [
    {
     "name": "stdout",
     "output_type": "stream",
     "text": [
      "{'ft_strjoin.c', 'ft_strmapi.c', 'ft_putnbr_fd.c', 'ft_putstr_fd.c', 'ft_striteri.c', 'ft_putendl_fd.c', 'ft_strtrim.c', 'ft_putchar_fd.c', 'ft_split.c', 'ft_substr.c', 'ft_itoa.c'}\n"
     ]
    }
   ],
   "source": [
    "teste = set(check_2_part).intersection(dir_list)\n",
    "\n",
    "print(teste)"
   ]
  },
  {
   "cell_type": "code",
   "execution_count": null,
   "metadata": {},
   "outputs": [],
   "source": []
  }
 ],
 "metadata": {
  "kernelspec": {
   "display_name": "Python 3.9.9 64-bit",
   "language": "python",
   "name": "python3"
  },
  "language_info": {
   "codemirror_mode": {
    "name": "ipython",
    "version": 3
   },
   "file_extension": ".py",
   "mimetype": "text/x-python",
   "name": "python",
   "nbconvert_exporter": "python",
   "pygments_lexer": "ipython3",
   "version": "3.9.9"
  },
  "orig_nbformat": 4,
  "vscode": {
   "interpreter": {
    "hash": "e7370f93d1d0cde622a1f8e1c04877d8463912d04d973331ad4851f04de6915a"
   }
  }
 },
 "nbformat": 4,
 "nbformat_minor": 2
}
